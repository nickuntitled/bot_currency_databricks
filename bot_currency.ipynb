{
 "cells": [
  {
   "cell_type": "markdown",
   "metadata": {
    "application/vnd.databricks.v1+cell": {
     "cellMetadata": {
      "byteLimit": 2048000,
      "rowLimit": 10000
     },
     "inputWidgets": {},
     "nuid": "4bc2d4c9-58c9-4575-9aa0-14f13360dcfb",
     "showTitle": false,
     "title": ""
    }
   },
   "source": [
    "# Bank of Taiwan currency exchange rate"
   ]
  },
  {
   "cell_type": "markdown",
   "metadata": {
    "application/vnd.databricks.v1+cell": {
     "cellMetadata": {
      "byteLimit": 2048000,
      "rowLimit": 10000
     },
     "inputWidgets": {},
     "nuid": "956b2731-ad39-4109-b6a0-6161d0afdf2c",
     "showTitle": false,
     "title": ""
    }
   },
   "source": [
    "## Import Libraries"
   ]
  },
  {
   "cell_type": "code",
   "execution_count": null,
   "metadata": {
    "application/vnd.databricks.v1+cell": {
     "cellMetadata": {
      "byteLimit": 2048000,
      "rowLimit": 10000
     },
     "inputWidgets": {},
     "nuid": "d990ee84-54ec-497b-be01-a2f7ec754c04",
     "showTitle": false,
     "title": ""
    }
   },
   "outputs": [],
   "source": [
    "# create new Spark session\n",
    "from pyspark.sql.functions import lit, col\n",
    "from pyspark.sql.types import *\n",
    "from pyspark.sql.functions import asc\n",
    "\n",
    "# Requests, DateTime, JSON, and Pandas\n",
    "import requests, datetime, json, os, io\n",
    "import pandas as pd"
   ]
  },
  {
   "cell_type": "markdown",
   "metadata": {
    "application/vnd.databricks.v1+cell": {
     "cellMetadata": {
      "byteLimit": 2048000,
      "rowLimit": 10000
     },
     "inputWidgets": {},
     "nuid": "a0dbe0ca-90d4-49e0-92d5-26732e2fd18c",
     "showTitle": false,
     "title": ""
    }
   },
   "source": [
    "## Get Spark Version"
   ]
  },
  {
   "cell_type": "code",
   "execution_count": null,
   "metadata": {
    "application/vnd.databricks.v1+cell": {
     "cellMetadata": {
      "byteLimit": 2048000,
      "rowLimit": 10000
     },
     "inputWidgets": {},
     "nuid": "67b4ef76-6ac5-4896-b921-702b3221c9c6",
     "showTitle": false,
     "title": ""
    }
   },
   "outputs": [
    {
     "name": "stdout",
     "output_type": "stream",
     "text": [
      "Out[45]: '3.3.2'"
     ]
    }
   ],
   "source": [
    "spark.version"
   ]
  },
  {
   "cell_type": "markdown",
   "metadata": {
    "application/vnd.databricks.v1+cell": {
     "cellMetadata": {
      "byteLimit": 2048000,
      "rowLimit": 10000
     },
     "inputWidgets": {},
     "nuid": "64de7f77-00f0-4c57-8bab-530b3f8e3386",
     "showTitle": false,
     "title": ""
    }
   },
   "source": [
    "## Download the recent currency exchange"
   ]
  },
  {
   "cell_type": "code",
   "execution_count": null,
   "metadata": {
    "application/vnd.databricks.v1+cell": {
     "cellMetadata": {
      "byteLimit": 2048000,
      "rowLimit": 10000
     },
     "inputWidgets": {},
     "nuid": "0d6fa816-a197-4600-a7f5-52593119c259",
     "showTitle": false,
     "title": ""
    }
   },
   "outputs": [],
   "source": [
    "currency_rate = {}\n",
    "current_data_request = requests.get(\"https://rate.bot.com.tw/xrt/flcsv/0/day\")\n",
    "current_df = pd.read_csv(io.StringIO(current_data_request \\\n",
    "    .content.decode('utf-8')), index_col = False)"
   ]
  },
  {
   "cell_type": "code",
   "execution_count": null,
   "metadata": {
    "application/vnd.databricks.v1+cell": {
     "cellMetadata": {
      "byteLimit": 2048000,
      "rowLimit": 10000
     },
     "inputWidgets": {},
     "nuid": "32e2cf89-1f1f-4be4-b004-bbb49692a176",
     "showTitle": false,
     "title": ""
    }
   },
   "outputs": [
    {
     "name": "stdout",
     "output_type": "stream",
     "text": [
      "Index(['幣別', '匯率', '現金', '即期', '遠期10天', '遠期30天', '遠期60天', '遠期90天', '遠期120天',\n",
      "       '遠期150天', '遠期180天', '匯率.1', '現金.1', '即期.1', '遠期10天.1', '遠期30天.1',\n",
      "       '遠期60天.1', '遠期90天.1', '遠期120天.1', '遠期150天.1', '遠期180天.1'],\n",
      "      dtype='object')\n"
     ]
    }
   ],
   "source": [
    "print(current_df.columns)"
   ]
  },
  {
   "cell_type": "code",
   "execution_count": null,
   "metadata": {
    "application/vnd.databricks.v1+cell": {
     "cellMetadata": {
      "byteLimit": 2048000,
      "rowLimit": 10000
     },
     "inputWidgets": {},
     "nuid": "b35682af-d10d-425d-8833-86180a48bc90",
     "showTitle": false,
     "title": ""
    }
   },
   "outputs": [
    {
     "data": {
      "text/html": [
       "<div>\n",
       "<style scoped>\n",
       "    .dataframe tbody tr th:only-of-type {\n",
       "        vertical-align: middle;\n",
       "    }\n",
       "\n",
       "    .dataframe tbody tr th {\n",
       "        vertical-align: top;\n",
       "    }\n",
       "\n",
       "    .dataframe thead th {\n",
       "        text-align: right;\n",
       "    }\n",
       "</style>\n",
       "<table border=\"1\" class=\"dataframe\">\n",
       "  <thead>\n",
       "    <tr style=\"text-align: right;\">\n",
       "      <th></th>\n",
       "      <th>幣別</th>\n",
       "      <th>匯率</th>\n",
       "      <th>現金</th>\n",
       "      <th>即期</th>\n",
       "      <th>遠期10天</th>\n",
       "      <th>遠期30天</th>\n",
       "      <th>遠期60天</th>\n",
       "      <th>遠期90天</th>\n",
       "      <th>遠期120天</th>\n",
       "      <th>遠期150天</th>\n",
       "      <th>...</th>\n",
       "      <th>匯率.1</th>\n",
       "      <th>現金.1</th>\n",
       "      <th>即期.1</th>\n",
       "      <th>遠期10天.1</th>\n",
       "      <th>遠期30天.1</th>\n",
       "      <th>遠期60天.1</th>\n",
       "      <th>遠期90天.1</th>\n",
       "      <th>遠期120天.1</th>\n",
       "      <th>遠期150天.1</th>\n",
       "      <th>遠期180天.1</th>\n",
       "    </tr>\n",
       "  </thead>\n",
       "  <tbody>\n",
       "    <tr>\n",
       "      <th>0</th>\n",
       "      <td>USD</td>\n",
       "      <td>本行買入</td>\n",
       "      <td>31.10500</td>\n",
       "      <td>31.4300</td>\n",
       "      <td>31.4280</td>\n",
       "      <td>31.3420</td>\n",
       "      <td>31.2150</td>\n",
       "      <td>31.1050</td>\n",
       "      <td>30.9920</td>\n",
       "      <td>30.8750</td>\n",
       "      <td>...</td>\n",
       "      <td>本行賣出</td>\n",
       "      <td>31.77500</td>\n",
       "      <td>31.5800</td>\n",
       "      <td>31.534</td>\n",
       "      <td>31.4580</td>\n",
       "      <td>31.3450</td>\n",
       "      <td>31.2450</td>\n",
       "      <td>31.140</td>\n",
       "      <td>31.0380</td>\n",
       "      <td>30.9400</td>\n",
       "    </tr>\n",
       "    <tr>\n",
       "      <th>1</th>\n",
       "      <td>HKD</td>\n",
       "      <td>本行買入</td>\n",
       "      <td>3.87200</td>\n",
       "      <td>3.9930</td>\n",
       "      <td>3.9940</td>\n",
       "      <td>3.9850</td>\n",
       "      <td>3.9740</td>\n",
       "      <td>3.9640</td>\n",
       "      <td>3.9520</td>\n",
       "      <td>3.9410</td>\n",
       "      <td>...</td>\n",
       "      <td>本行賣出</td>\n",
       "      <td>4.07600</td>\n",
       "      <td>4.0630</td>\n",
       "      <td>4.055</td>\n",
       "      <td>4.0480</td>\n",
       "      <td>4.0370</td>\n",
       "      <td>4.0270</td>\n",
       "      <td>4.016</td>\n",
       "      <td>4.0060</td>\n",
       "      <td>3.9960</td>\n",
       "    </tr>\n",
       "    <tr>\n",
       "      <th>2</th>\n",
       "      <td>GBP</td>\n",
       "      <td>本行買入</td>\n",
       "      <td>38.60000</td>\n",
       "      <td>39.4950</td>\n",
       "      <td>39.6960</td>\n",
       "      <td>39.5880</td>\n",
       "      <td>39.4580</td>\n",
       "      <td>39.3260</td>\n",
       "      <td>39.1890</td>\n",
       "      <td>39.0520</td>\n",
       "      <td>...</td>\n",
       "      <td>本行賣出</td>\n",
       "      <td>40.72000</td>\n",
       "      <td>40.1250</td>\n",
       "      <td>40.112</td>\n",
       "      <td>40.0370</td>\n",
       "      <td>39.9070</td>\n",
       "      <td>39.7720</td>\n",
       "      <td>39.649</td>\n",
       "      <td>39.5250</td>\n",
       "      <td>39.4020</td>\n",
       "    </tr>\n",
       "    <tr>\n",
       "      <th>3</th>\n",
       "      <td>AUD</td>\n",
       "      <td>本行買入</td>\n",
       "      <td>20.26000</td>\n",
       "      <td>20.4750</td>\n",
       "      <td>20.6370</td>\n",
       "      <td>20.5920</td>\n",
       "      <td>20.5400</td>\n",
       "      <td>20.4860</td>\n",
       "      <td>20.4320</td>\n",
       "      <td>20.3740</td>\n",
       "      <td>...</td>\n",
       "      <td>本行賣出</td>\n",
       "      <td>21.04000</td>\n",
       "      <td>20.8200</td>\n",
       "      <td>20.846</td>\n",
       "      <td>20.8180</td>\n",
       "      <td>20.7650</td>\n",
       "      <td>20.7110</td>\n",
       "      <td>20.664</td>\n",
       "      <td>20.6130</td>\n",
       "      <td>20.5600</td>\n",
       "    </tr>\n",
       "    <tr>\n",
       "      <th>4</th>\n",
       "      <td>CAD</td>\n",
       "      <td>本行買入</td>\n",
       "      <td>22.85000</td>\n",
       "      <td>23.1800</td>\n",
       "      <td>23.3010</td>\n",
       "      <td>23.2440</td>\n",
       "      <td>23.1730</td>\n",
       "      <td>23.1010</td>\n",
       "      <td>23.0260</td>\n",
       "      <td>22.9500</td>\n",
       "      <td>...</td>\n",
       "      <td>本行賣出</td>\n",
       "      <td>23.76000</td>\n",
       "      <td>23.5100</td>\n",
       "      <td>23.507</td>\n",
       "      <td>23.4620</td>\n",
       "      <td>23.3900</td>\n",
       "      <td>23.3170</td>\n",
       "      <td>23.250</td>\n",
       "      <td>23.1830</td>\n",
       "      <td>23.1160</td>\n",
       "    </tr>\n",
       "    <tr>\n",
       "      <th>5</th>\n",
       "      <td>SGD</td>\n",
       "      <td>本行買入</td>\n",
       "      <td>22.89000</td>\n",
       "      <td>23.3600</td>\n",
       "      <td>23.3870</td>\n",
       "      <td>23.3420</td>\n",
       "      <td>23.2910</td>\n",
       "      <td>23.2410</td>\n",
       "      <td>23.1910</td>\n",
       "      <td>23.1410</td>\n",
       "      <td>...</td>\n",
       "      <td>本行賣出</td>\n",
       "      <td>23.80000</td>\n",
       "      <td>23.5800</td>\n",
       "      <td>23.577</td>\n",
       "      <td>23.5520</td>\n",
       "      <td>23.5000</td>\n",
       "      <td>23.4500</td>\n",
       "      <td>23.408</td>\n",
       "      <td>23.3660</td>\n",
       "      <td>23.3250</td>\n",
       "    </tr>\n",
       "    <tr>\n",
       "      <th>6</th>\n",
       "      <td>CHF</td>\n",
       "      <td>本行買入</td>\n",
       "      <td>35.00000</td>\n",
       "      <td>35.6100</td>\n",
       "      <td>35.8170</td>\n",
       "      <td>35.7910</td>\n",
       "      <td>35.7780</td>\n",
       "      <td>35.7650</td>\n",
       "      <td>35.7480</td>\n",
       "      <td>35.7310</td>\n",
       "      <td>...</td>\n",
       "      <td>本行賣出</td>\n",
       "      <td>36.20000</td>\n",
       "      <td>36.0000</td>\n",
       "      <td>36.082</td>\n",
       "      <td>36.0870</td>\n",
       "      <td>36.0750</td>\n",
       "      <td>36.0600</td>\n",
       "      <td>36.059</td>\n",
       "      <td>36.0570</td>\n",
       "      <td>36.0560</td>\n",
       "    </tr>\n",
       "    <tr>\n",
       "      <th>7</th>\n",
       "      <td>JPY</td>\n",
       "      <td>本行買入</td>\n",
       "      <td>0.20010</td>\n",
       "      <td>0.2069</td>\n",
       "      <td>0.2080</td>\n",
       "      <td>0.2081</td>\n",
       "      <td>0.2083</td>\n",
       "      <td>0.2085</td>\n",
       "      <td>0.2086</td>\n",
       "      <td>0.2088</td>\n",
       "      <td>...</td>\n",
       "      <td>本行賣出</td>\n",
       "      <td>0.21290</td>\n",
       "      <td>0.2119</td>\n",
       "      <td>0.212</td>\n",
       "      <td>0.2123</td>\n",
       "      <td>0.2125</td>\n",
       "      <td>0.2128</td>\n",
       "      <td>0.213</td>\n",
       "      <td>0.2133</td>\n",
       "      <td>0.2136</td>\n",
       "    </tr>\n",
       "    <tr>\n",
       "      <th>8</th>\n",
       "      <td>ZAR</td>\n",
       "      <td>本行買入</td>\n",
       "      <td>0.00000</td>\n",
       "      <td>1.6040</td>\n",
       "      <td>1.6280</td>\n",
       "      <td>1.6200</td>\n",
       "      <td>1.6100</td>\n",
       "      <td>1.6000</td>\n",
       "      <td>1.5900</td>\n",
       "      <td>1.5800</td>\n",
       "      <td>...</td>\n",
       "      <td>本行賣出</td>\n",
       "      <td>0.00000</td>\n",
       "      <td>1.6940</td>\n",
       "      <td>1.709</td>\n",
       "      <td>1.7030</td>\n",
       "      <td>1.6930</td>\n",
       "      <td>1.6830</td>\n",
       "      <td>1.673</td>\n",
       "      <td>1.6640</td>\n",
       "      <td>1.6540</td>\n",
       "    </tr>\n",
       "    <tr>\n",
       "      <th>9</th>\n",
       "      <td>SEK</td>\n",
       "      <td>本行買入</td>\n",
       "      <td>2.67000</td>\n",
       "      <td>3.0000</td>\n",
       "      <td>3.0070</td>\n",
       "      <td>3.0010</td>\n",
       "      <td>2.9940</td>\n",
       "      <td>2.9870</td>\n",
       "      <td>2.9800</td>\n",
       "      <td>2.9720</td>\n",
       "      <td>...</td>\n",
       "      <td>本行賣出</td>\n",
       "      <td>3.19000</td>\n",
       "      <td>3.1200</td>\n",
       "      <td>3.108</td>\n",
       "      <td>3.1040</td>\n",
       "      <td>3.0970</td>\n",
       "      <td>3.0900</td>\n",
       "      <td>3.085</td>\n",
       "      <td>3.0790</td>\n",
       "      <td>3.0730</td>\n",
       "    </tr>\n",
       "    <tr>\n",
       "      <th>10</th>\n",
       "      <td>NZD</td>\n",
       "      <td>本行買入</td>\n",
       "      <td>19.01000</td>\n",
       "      <td>19.3400</td>\n",
       "      <td>19.4620</td>\n",
       "      <td>19.4060</td>\n",
       "      <td>19.3410</td>\n",
       "      <td>19.2730</td>\n",
       "      <td>19.2030</td>\n",
       "      <td>19.1330</td>\n",
       "      <td>...</td>\n",
       "      <td>本行賣出</td>\n",
       "      <td>19.86000</td>\n",
       "      <td>19.6400</td>\n",
       "      <td>19.672</td>\n",
       "      <td>19.6350</td>\n",
       "      <td>19.5680</td>\n",
       "      <td>19.5010</td>\n",
       "      <td>19.437</td>\n",
       "      <td>19.3730</td>\n",
       "      <td>19.3090</td>\n",
       "    </tr>\n",
       "    <tr>\n",
       "      <th>11</th>\n",
       "      <td>THB</td>\n",
       "      <td>本行買入</td>\n",
       "      <td>0.74910</td>\n",
       "      <td>0.8585</td>\n",
       "      <td>0.0000</td>\n",
       "      <td>0.0000</td>\n",
       "      <td>0.0000</td>\n",
       "      <td>0.0000</td>\n",
       "      <td>0.0000</td>\n",
       "      <td>0.0000</td>\n",
       "      <td>...</td>\n",
       "      <td>本行賣出</td>\n",
       "      <td>0.93910</td>\n",
       "      <td>0.9045</td>\n",
       "      <td>0.000</td>\n",
       "      <td>0.0000</td>\n",
       "      <td>0.0000</td>\n",
       "      <td>0.0000</td>\n",
       "      <td>0.000</td>\n",
       "      <td>0.0000</td>\n",
       "      <td>0.0000</td>\n",
       "    </tr>\n",
       "    <tr>\n",
       "      <th>12</th>\n",
       "      <td>PHP</td>\n",
       "      <td>本行買入</td>\n",
       "      <td>0.49950</td>\n",
       "      <td>0.0000</td>\n",
       "      <td>0.0000</td>\n",
       "      <td>0.0000</td>\n",
       "      <td>0.0000</td>\n",
       "      <td>0.0000</td>\n",
       "      <td>0.0000</td>\n",
       "      <td>0.0000</td>\n",
       "      <td>...</td>\n",
       "      <td>本行賣出</td>\n",
       "      <td>0.63150</td>\n",
       "      <td>0.0000</td>\n",
       "      <td>0.000</td>\n",
       "      <td>0.0000</td>\n",
       "      <td>0.0000</td>\n",
       "      <td>0.0000</td>\n",
       "      <td>0.000</td>\n",
       "      <td>0.0000</td>\n",
       "      <td>0.0000</td>\n",
       "    </tr>\n",
       "    <tr>\n",
       "      <th>13</th>\n",
       "      <td>IDR</td>\n",
       "      <td>本行買入</td>\n",
       "      <td>0.00168</td>\n",
       "      <td>0.0000</td>\n",
       "      <td>0.0000</td>\n",
       "      <td>0.0000</td>\n",
       "      <td>0.0000</td>\n",
       "      <td>0.0000</td>\n",
       "      <td>0.0000</td>\n",
       "      <td>0.0000</td>\n",
       "      <td>...</td>\n",
       "      <td>本行賣出</td>\n",
       "      <td>0.00238</td>\n",
       "      <td>0.0000</td>\n",
       "      <td>0.000</td>\n",
       "      <td>0.0000</td>\n",
       "      <td>0.0000</td>\n",
       "      <td>0.0000</td>\n",
       "      <td>0.000</td>\n",
       "      <td>0.0000</td>\n",
       "      <td>0.0000</td>\n",
       "    </tr>\n",
       "    <tr>\n",
       "      <th>14</th>\n",
       "      <td>EUR</td>\n",
       "      <td>本行買入</td>\n",
       "      <td>33.31000</td>\n",
       "      <td>33.8250</td>\n",
       "      <td>33.9820</td>\n",
       "      <td>33.9250</td>\n",
       "      <td>33.8330</td>\n",
       "      <td>33.7500</td>\n",
       "      <td>33.6720</td>\n",
       "      <td>33.5940</td>\n",
       "      <td>...</td>\n",
       "      <td>本行賣出</td>\n",
       "      <td>34.65000</td>\n",
       "      <td>34.4250</td>\n",
       "      <td>34.388</td>\n",
       "      <td>34.3430</td>\n",
       "      <td>34.2640</td>\n",
       "      <td>34.2050</td>\n",
       "      <td>34.145</td>\n",
       "      <td>34.0850</td>\n",
       "      <td>34.0250</td>\n",
       "    </tr>\n",
       "    <tr>\n",
       "      <th>15</th>\n",
       "      <td>KRW</td>\n",
       "      <td>本行買入</td>\n",
       "      <td>0.02198</td>\n",
       "      <td>0.0000</td>\n",
       "      <td>0.0000</td>\n",
       "      <td>0.0000</td>\n",
       "      <td>0.0000</td>\n",
       "      <td>0.0000</td>\n",
       "      <td>0.0000</td>\n",
       "      <td>0.0000</td>\n",
       "      <td>...</td>\n",
       "      <td>本行賣出</td>\n",
       "      <td>0.02588</td>\n",
       "      <td>0.0000</td>\n",
       "      <td>0.000</td>\n",
       "      <td>0.0000</td>\n",
       "      <td>0.0000</td>\n",
       "      <td>0.0000</td>\n",
       "      <td>0.000</td>\n",
       "      <td>0.0000</td>\n",
       "      <td>0.0000</td>\n",
       "    </tr>\n",
       "    <tr>\n",
       "      <th>16</th>\n",
       "      <td>VND</td>\n",
       "      <td>本行買入</td>\n",
       "      <td>0.00104</td>\n",
       "      <td>0.0000</td>\n",
       "      <td>0.0000</td>\n",
       "      <td>0.0000</td>\n",
       "      <td>0.0000</td>\n",
       "      <td>0.0000</td>\n",
       "      <td>0.0000</td>\n",
       "      <td>0.0000</td>\n",
       "      <td>...</td>\n",
       "      <td>本行賣出</td>\n",
       "      <td>0.00145</td>\n",
       "      <td>0.0000</td>\n",
       "      <td>0.000</td>\n",
       "      <td>0.0000</td>\n",
       "      <td>0.0000</td>\n",
       "      <td>0.0000</td>\n",
       "      <td>0.000</td>\n",
       "      <td>0.0000</td>\n",
       "      <td>0.0000</td>\n",
       "    </tr>\n",
       "    <tr>\n",
       "      <th>17</th>\n",
       "      <td>MYR</td>\n",
       "      <td>本行買入</td>\n",
       "      <td>5.55500</td>\n",
       "      <td>0.0000</td>\n",
       "      <td>0.0000</td>\n",
       "      <td>0.0000</td>\n",
       "      <td>0.0000</td>\n",
       "      <td>0.0000</td>\n",
       "      <td>0.0000</td>\n",
       "      <td>0.0000</td>\n",
       "      <td>...</td>\n",
       "      <td>本行賣出</td>\n",
       "      <td>7.07500</td>\n",
       "      <td>0.0000</td>\n",
       "      <td>0.000</td>\n",
       "      <td>0.0000</td>\n",
       "      <td>0.0000</td>\n",
       "      <td>0.0000</td>\n",
       "      <td>0.000</td>\n",
       "      <td>0.0000</td>\n",
       "      <td>0.0000</td>\n",
       "    </tr>\n",
       "    <tr>\n",
       "      <th>18</th>\n",
       "      <td>CNY</td>\n",
       "      <td>本行買入</td>\n",
       "      <td>4.27900</td>\n",
       "      <td>4.3460</td>\n",
       "      <td>4.3498</td>\n",
       "      <td>4.3434</td>\n",
       "      <td>4.3349</td>\n",
       "      <td>4.3272</td>\n",
       "      <td>4.3204</td>\n",
       "      <td>4.3108</td>\n",
       "      <td>...</td>\n",
       "      <td>本行賣出</td>\n",
       "      <td>4.44100</td>\n",
       "      <td>4.4060</td>\n",
       "      <td>4.401</td>\n",
       "      <td>4.3970</td>\n",
       "      <td>4.3909</td>\n",
       "      <td>4.3836</td>\n",
       "      <td>4.379</td>\n",
       "      <td>4.3743</td>\n",
       "      <td>4.3697</td>\n",
       "    </tr>\n",
       "  </tbody>\n",
       "</table>\n",
       "<p>19 rows × 21 columns</p>\n",
       "</div>"
      ]
     },
     "metadata": {
      "application/vnd.databricks.v1+output": {
       "addedWidgets": {},
       "arguments": {},
       "data": "<div>\n<style scoped>\n    .dataframe tbody tr th:only-of-type {\n        vertical-align: middle;\n    }\n\n    .dataframe tbody tr th {\n        vertical-align: top;\n    }\n\n    .dataframe thead th {\n        text-align: right;\n    }\n</style>\n<table border=\"1\" class=\"dataframe\">\n  <thead>\n    <tr style=\"text-align: right;\">\n      <th></th>\n      <th>幣別</th>\n      <th>匯率</th>\n      <th>現金</th>\n      <th>即期</th>\n      <th>遠期10天</th>\n      <th>遠期30天</th>\n      <th>遠期60天</th>\n      <th>遠期90天</th>\n      <th>遠期120天</th>\n      <th>遠期150天</th>\n      <th>...</th>\n      <th>匯率.1</th>\n      <th>現金.1</th>\n      <th>即期.1</th>\n      <th>遠期10天.1</th>\n      <th>遠期30天.1</th>\n      <th>遠期60天.1</th>\n      <th>遠期90天.1</th>\n      <th>遠期120天.1</th>\n      <th>遠期150天.1</th>\n      <th>遠期180天.1</th>\n    </tr>\n  </thead>\n  <tbody>\n    <tr>\n      <th>0</th>\n      <td>USD</td>\n      <td>本行買入</td>\n      <td>31.10500</td>\n      <td>31.4300</td>\n      <td>31.4280</td>\n      <td>31.3420</td>\n      <td>31.2150</td>\n      <td>31.1050</td>\n      <td>30.9920</td>\n      <td>30.8750</td>\n      <td>...</td>\n      <td>本行賣出</td>\n      <td>31.77500</td>\n      <td>31.5800</td>\n      <td>31.534</td>\n      <td>31.4580</td>\n      <td>31.3450</td>\n      <td>31.2450</td>\n      <td>31.140</td>\n      <td>31.0380</td>\n      <td>30.9400</td>\n    </tr>\n    <tr>\n      <th>1</th>\n      <td>HKD</td>\n      <td>本行買入</td>\n      <td>3.87200</td>\n      <td>3.9930</td>\n      <td>3.9940</td>\n      <td>3.9850</td>\n      <td>3.9740</td>\n      <td>3.9640</td>\n      <td>3.9520</td>\n      <td>3.9410</td>\n      <td>...</td>\n      <td>本行賣出</td>\n      <td>4.07600</td>\n      <td>4.0630</td>\n      <td>4.055</td>\n      <td>4.0480</td>\n      <td>4.0370</td>\n      <td>4.0270</td>\n      <td>4.016</td>\n      <td>4.0060</td>\n      <td>3.9960</td>\n    </tr>\n    <tr>\n      <th>2</th>\n      <td>GBP</td>\n      <td>本行買入</td>\n      <td>38.60000</td>\n      <td>39.4950</td>\n      <td>39.6960</td>\n      <td>39.5880</td>\n      <td>39.4580</td>\n      <td>39.3260</td>\n      <td>39.1890</td>\n      <td>39.0520</td>\n      <td>...</td>\n      <td>本行賣出</td>\n      <td>40.72000</td>\n      <td>40.1250</td>\n      <td>40.112</td>\n      <td>40.0370</td>\n      <td>39.9070</td>\n      <td>39.7720</td>\n      <td>39.649</td>\n      <td>39.5250</td>\n      <td>39.4020</td>\n    </tr>\n    <tr>\n      <th>3</th>\n      <td>AUD</td>\n      <td>本行買入</td>\n      <td>20.26000</td>\n      <td>20.4750</td>\n      <td>20.6370</td>\n      <td>20.5920</td>\n      <td>20.5400</td>\n      <td>20.4860</td>\n      <td>20.4320</td>\n      <td>20.3740</td>\n      <td>...</td>\n      <td>本行賣出</td>\n      <td>21.04000</td>\n      <td>20.8200</td>\n      <td>20.846</td>\n      <td>20.8180</td>\n      <td>20.7650</td>\n      <td>20.7110</td>\n      <td>20.664</td>\n      <td>20.6130</td>\n      <td>20.5600</td>\n    </tr>\n    <tr>\n      <th>4</th>\n      <td>CAD</td>\n      <td>本行買入</td>\n      <td>22.85000</td>\n      <td>23.1800</td>\n      <td>23.3010</td>\n      <td>23.2440</td>\n      <td>23.1730</td>\n      <td>23.1010</td>\n      <td>23.0260</td>\n      <td>22.9500</td>\n      <td>...</td>\n      <td>本行賣出</td>\n      <td>23.76000</td>\n      <td>23.5100</td>\n      <td>23.507</td>\n      <td>23.4620</td>\n      <td>23.3900</td>\n      <td>23.3170</td>\n      <td>23.250</td>\n      <td>23.1830</td>\n      <td>23.1160</td>\n    </tr>\n    <tr>\n      <th>5</th>\n      <td>SGD</td>\n      <td>本行買入</td>\n      <td>22.89000</td>\n      <td>23.3600</td>\n      <td>23.3870</td>\n      <td>23.3420</td>\n      <td>23.2910</td>\n      <td>23.2410</td>\n      <td>23.1910</td>\n      <td>23.1410</td>\n      <td>...</td>\n      <td>本行賣出</td>\n      <td>23.80000</td>\n      <td>23.5800</td>\n      <td>23.577</td>\n      <td>23.5520</td>\n      <td>23.5000</td>\n      <td>23.4500</td>\n      <td>23.408</td>\n      <td>23.3660</td>\n      <td>23.3250</td>\n    </tr>\n    <tr>\n      <th>6</th>\n      <td>CHF</td>\n      <td>本行買入</td>\n      <td>35.00000</td>\n      <td>35.6100</td>\n      <td>35.8170</td>\n      <td>35.7910</td>\n      <td>35.7780</td>\n      <td>35.7650</td>\n      <td>35.7480</td>\n      <td>35.7310</td>\n      <td>...</td>\n      <td>本行賣出</td>\n      <td>36.20000</td>\n      <td>36.0000</td>\n      <td>36.082</td>\n      <td>36.0870</td>\n      <td>36.0750</td>\n      <td>36.0600</td>\n      <td>36.059</td>\n      <td>36.0570</td>\n      <td>36.0560</td>\n    </tr>\n    <tr>\n      <th>7</th>\n      <td>JPY</td>\n      <td>本行買入</td>\n      <td>0.20010</td>\n      <td>0.2069</td>\n      <td>0.2080</td>\n      <td>0.2081</td>\n      <td>0.2083</td>\n      <td>0.2085</td>\n      <td>0.2086</td>\n      <td>0.2088</td>\n      <td>...</td>\n      <td>本行賣出</td>\n      <td>0.21290</td>\n      <td>0.2119</td>\n      <td>0.212</td>\n      <td>0.2123</td>\n      <td>0.2125</td>\n      <td>0.2128</td>\n      <td>0.213</td>\n      <td>0.2133</td>\n      <td>0.2136</td>\n    </tr>\n    <tr>\n      <th>8</th>\n      <td>ZAR</td>\n      <td>本行買入</td>\n      <td>0.00000</td>\n      <td>1.6040</td>\n      <td>1.6280</td>\n      <td>1.6200</td>\n      <td>1.6100</td>\n      <td>1.6000</td>\n      <td>1.5900</td>\n      <td>1.5800</td>\n      <td>...</td>\n      <td>本行賣出</td>\n      <td>0.00000</td>\n      <td>1.6940</td>\n      <td>1.709</td>\n      <td>1.7030</td>\n      <td>1.6930</td>\n      <td>1.6830</td>\n      <td>1.673</td>\n      <td>1.6640</td>\n      <td>1.6540</td>\n    </tr>\n    <tr>\n      <th>9</th>\n      <td>SEK</td>\n      <td>本行買入</td>\n      <td>2.67000</td>\n      <td>3.0000</td>\n      <td>3.0070</td>\n      <td>3.0010</td>\n      <td>2.9940</td>\n      <td>2.9870</td>\n      <td>2.9800</td>\n      <td>2.9720</td>\n      <td>...</td>\n      <td>本行賣出</td>\n      <td>3.19000</td>\n      <td>3.1200</td>\n      <td>3.108</td>\n      <td>3.1040</td>\n      <td>3.0970</td>\n      <td>3.0900</td>\n      <td>3.085</td>\n      <td>3.0790</td>\n      <td>3.0730</td>\n    </tr>\n    <tr>\n      <th>10</th>\n      <td>NZD</td>\n      <td>本行買入</td>\n      <td>19.01000</td>\n      <td>19.3400</td>\n      <td>19.4620</td>\n      <td>19.4060</td>\n      <td>19.3410</td>\n      <td>19.2730</td>\n      <td>19.2030</td>\n      <td>19.1330</td>\n      <td>...</td>\n      <td>本行賣出</td>\n      <td>19.86000</td>\n      <td>19.6400</td>\n      <td>19.672</td>\n      <td>19.6350</td>\n      <td>19.5680</td>\n      <td>19.5010</td>\n      <td>19.437</td>\n      <td>19.3730</td>\n      <td>19.3090</td>\n    </tr>\n    <tr>\n      <th>11</th>\n      <td>THB</td>\n      <td>本行買入</td>\n      <td>0.74910</td>\n      <td>0.8585</td>\n      <td>0.0000</td>\n      <td>0.0000</td>\n      <td>0.0000</td>\n      <td>0.0000</td>\n      <td>0.0000</td>\n      <td>0.0000</td>\n      <td>...</td>\n      <td>本行賣出</td>\n      <td>0.93910</td>\n      <td>0.9045</td>\n      <td>0.000</td>\n      <td>0.0000</td>\n      <td>0.0000</td>\n      <td>0.0000</td>\n      <td>0.000</td>\n      <td>0.0000</td>\n      <td>0.0000</td>\n    </tr>\n    <tr>\n      <th>12</th>\n      <td>PHP</td>\n      <td>本行買入</td>\n      <td>0.49950</td>\n      <td>0.0000</td>\n      <td>0.0000</td>\n      <td>0.0000</td>\n      <td>0.0000</td>\n      <td>0.0000</td>\n      <td>0.0000</td>\n      <td>0.0000</td>\n      <td>...</td>\n      <td>本行賣出</td>\n      <td>0.63150</td>\n      <td>0.0000</td>\n      <td>0.000</td>\n      <td>0.0000</td>\n      <td>0.0000</td>\n      <td>0.0000</td>\n      <td>0.000</td>\n      <td>0.0000</td>\n      <td>0.0000</td>\n    </tr>\n    <tr>\n      <th>13</th>\n      <td>IDR</td>\n      <td>本行買入</td>\n      <td>0.00168</td>\n      <td>0.0000</td>\n      <td>0.0000</td>\n      <td>0.0000</td>\n      <td>0.0000</td>\n      <td>0.0000</td>\n      <td>0.0000</td>\n      <td>0.0000</td>\n      <td>...</td>\n      <td>本行賣出</td>\n      <td>0.00238</td>\n      <td>0.0000</td>\n      <td>0.000</td>\n      <td>0.0000</td>\n      <td>0.0000</td>\n      <td>0.0000</td>\n      <td>0.000</td>\n      <td>0.0000</td>\n      <td>0.0000</td>\n    </tr>\n    <tr>\n      <th>14</th>\n      <td>EUR</td>\n      <td>本行買入</td>\n      <td>33.31000</td>\n      <td>33.8250</td>\n      <td>33.9820</td>\n      <td>33.9250</td>\n      <td>33.8330</td>\n      <td>33.7500</td>\n      <td>33.6720</td>\n      <td>33.5940</td>\n      <td>...</td>\n      <td>本行賣出</td>\n      <td>34.65000</td>\n      <td>34.4250</td>\n      <td>34.388</td>\n      <td>34.3430</td>\n      <td>34.2640</td>\n      <td>34.2050</td>\n      <td>34.145</td>\n      <td>34.0850</td>\n      <td>34.0250</td>\n    </tr>\n    <tr>\n      <th>15</th>\n      <td>KRW</td>\n      <td>本行買入</td>\n      <td>0.02198</td>\n      <td>0.0000</td>\n      <td>0.0000</td>\n      <td>0.0000</td>\n      <td>0.0000</td>\n      <td>0.0000</td>\n      <td>0.0000</td>\n      <td>0.0000</td>\n      <td>...</td>\n      <td>本行賣出</td>\n      <td>0.02588</td>\n      <td>0.0000</td>\n      <td>0.000</td>\n      <td>0.0000</td>\n      <td>0.0000</td>\n      <td>0.0000</td>\n      <td>0.000</td>\n      <td>0.0000</td>\n      <td>0.0000</td>\n    </tr>\n    <tr>\n      <th>16</th>\n      <td>VND</td>\n      <td>本行買入</td>\n      <td>0.00104</td>\n      <td>0.0000</td>\n      <td>0.0000</td>\n      <td>0.0000</td>\n      <td>0.0000</td>\n      <td>0.0000</td>\n      <td>0.0000</td>\n      <td>0.0000</td>\n      <td>...</td>\n      <td>本行賣出</td>\n      <td>0.00145</td>\n      <td>0.0000</td>\n      <td>0.000</td>\n      <td>0.0000</td>\n      <td>0.0000</td>\n      <td>0.0000</td>\n      <td>0.000</td>\n      <td>0.0000</td>\n      <td>0.0000</td>\n    </tr>\n    <tr>\n      <th>17</th>\n      <td>MYR</td>\n      <td>本行買入</td>\n      <td>5.55500</td>\n      <td>0.0000</td>\n      <td>0.0000</td>\n      <td>0.0000</td>\n      <td>0.0000</td>\n      <td>0.0000</td>\n      <td>0.0000</td>\n      <td>0.0000</td>\n      <td>...</td>\n      <td>本行賣出</td>\n      <td>7.07500</td>\n      <td>0.0000</td>\n      <td>0.000</td>\n      <td>0.0000</td>\n      <td>0.0000</td>\n      <td>0.0000</td>\n      <td>0.000</td>\n      <td>0.0000</td>\n      <td>0.0000</td>\n    </tr>\n    <tr>\n      <th>18</th>\n      <td>CNY</td>\n      <td>本行買入</td>\n      <td>4.27900</td>\n      <td>4.3460</td>\n      <td>4.3498</td>\n      <td>4.3434</td>\n      <td>4.3349</td>\n      <td>4.3272</td>\n      <td>4.3204</td>\n      <td>4.3108</td>\n      <td>...</td>\n      <td>本行賣出</td>\n      <td>4.44100</td>\n      <td>4.4060</td>\n      <td>4.401</td>\n      <td>4.3970</td>\n      <td>4.3909</td>\n      <td>4.3836</td>\n      <td>4.379</td>\n      <td>4.3743</td>\n      <td>4.3697</td>\n    </tr>\n  </tbody>\n</table>\n<p>19 rows × 21 columns</p>\n</div>",
       "datasetInfos": [],
       "metadata": {},
       "removedWidgets": [],
       "textData": null,
       "type": "htmlSandbox"
      }
     },
     "output_type": "display_data"
    }
   ],
   "source": [
    "current_df"
   ]
  },
  {
   "cell_type": "code",
   "execution_count": null,
   "metadata": {
    "application/vnd.databricks.v1+cell": {
     "cellMetadata": {
      "byteLimit": 2048000,
      "rowLimit": 10000
     },
     "inputWidgets": {},
     "nuid": "51487f7a-5391-48f5-8963-37201f1836b0",
     "showTitle": false,
     "title": ""
    }
   },
   "outputs": [
    {
     "name": "stdout",
     "output_type": "stream",
     "text": [
      "root\n",
      " |-- 幣別: string (nullable = true)\n",
      " |-- 匯率: string (nullable = true)\n",
      " |-- 現金: float (nullable = true)\n",
      " |-- 即期: float (nullable = true)\n",
      " |-- 遠期10天: float (nullable = true)\n",
      " |-- 遠期30天: float (nullable = true)\n",
      " |-- 遠期60天: float (nullable = true)\n",
      " |-- 遠期90天: float (nullable = true)\n",
      " |-- 遠期120天: float (nullable = true)\n",
      " |-- 遠期150天: float (nullable = true)\n",
      " |-- 遠期180天: float (nullable = true)\n",
      " |-- 匯率.1: string (nullable = true)\n",
      " |-- 現金.1: float (nullable = true)\n",
      " |-- 即期.1: float (nullable = true)\n",
      " |-- 遠期10天.1: float (nullable = true)\n",
      " |-- 遠期30天.1: float (nullable = true)\n",
      " |-- 遠期60天.1: float (nullable = true)\n",
      " |-- 遠期90天.1: float (nullable = true)\n",
      " |-- 遠期120天.1: float (nullable = true)\n",
      " |-- 遠期150天.1: float (nullable = true)\n",
      " |-- 遠期180天.1: float (nullable = true)\n",
      "\n"
     ]
    }
   ],
   "source": [
    "fields = []\n",
    "for field_name in current_df.columns:\n",
    "    if field_name in ['幣別', '匯率', '匯率.1']: #, '匯率', \"匯率.1\"]:\n",
    "        fields.append(StructField(field_name, StringType(), True))\n",
    "    else:\n",
    "        fields.append(StructField(field_name, FloatType(), True))\n",
    "        \n",
    "schema = StructType(fields)\n",
    "spark_df = spark.createDataFrame(current_df, schema)\n",
    "spark_df.printSchema()"
   ]
  },
  {
   "cell_type": "code",
   "execution_count": null,
   "metadata": {
    "application/vnd.databricks.v1+cell": {
     "cellMetadata": {
      "byteLimit": 2048000,
      "rowLimit": 10000
     },
     "inputWidgets": {},
     "nuid": "83c4e4c4-31dd-42bf-9521-3b40d1c13917",
     "showTitle": false,
     "title": ""
    }
   },
   "outputs": [
    {
     "data": {
      "text/html": [
       "<style scoped>\n",
       "  .table-result-container {\n",
       "    max-height: 300px;\n",
       "    overflow: auto;\n",
       "  }\n",
       "  table, th, td {\n",
       "    border: 1px solid black;\n",
       "    border-collapse: collapse;\n",
       "  }\n",
       "  th, td {\n",
       "    padding: 5px;\n",
       "  }\n",
       "  th {\n",
       "    text-align: left;\n",
       "  }\n",
       "</style><div class='table-result-container'><table class='table-result'><thead style='background-color: white'><tr><th>幣別</th><th>匯率</th><th>現金</th><th>即期</th><th>遠期10天</th><th>遠期30天</th><th>遠期60天</th><th>遠期90天</th><th>遠期120天</th><th>遠期150天</th><th>遠期180天</th><th>匯率.1</th><th>現金.1</th><th>即期.1</th><th>遠期10天.1</th><th>遠期30天.1</th><th>遠期60天.1</th><th>遠期90天.1</th><th>遠期120天.1</th><th>遠期150天.1</th><th>遠期180天.1</th></tr></thead><tbody><tr><td>USD</td><td>本行買入</td><td>31.105</td><td>31.43</td><td>31.428</td><td>31.342</td><td>31.215</td><td>31.105</td><td>30.992</td><td>30.875</td><td>30.768</td><td>本行賣出</td><td>31.775</td><td>31.58</td><td>31.534</td><td>31.458</td><td>31.345</td><td>31.245</td><td>31.14</td><td>31.038</td><td>30.94</td></tr><tr><td>HKD</td><td>本行買入</td><td>3.872</td><td>3.993</td><td>3.994</td><td>3.985</td><td>3.974</td><td>3.964</td><td>3.952</td><td>3.941</td><td>3.929</td><td>本行賣出</td><td>4.076</td><td>4.063</td><td>4.055</td><td>4.048</td><td>4.037</td><td>4.027</td><td>4.016</td><td>4.006</td><td>3.996</td></tr><tr><td>GBP</td><td>本行買入</td><td>38.6</td><td>39.495</td><td>39.696</td><td>39.588</td><td>39.458</td><td>39.326</td><td>39.189</td><td>39.052</td><td>38.916</td><td>本行賣出</td><td>40.72</td><td>40.125</td><td>40.112</td><td>40.037</td><td>39.907</td><td>39.772</td><td>39.649</td><td>39.525</td><td>39.402</td></tr><tr><td>AUD</td><td>本行買入</td><td>20.26</td><td>20.475</td><td>20.637</td><td>20.592</td><td>20.54</td><td>20.486</td><td>20.432</td><td>20.374</td><td>20.315</td><td>本行賣出</td><td>21.04</td><td>20.82</td><td>20.846</td><td>20.818</td><td>20.765</td><td>20.711</td><td>20.664</td><td>20.613</td><td>20.56</td></tr><tr><td>CAD</td><td>本行買入</td><td>22.85</td><td>23.18</td><td>23.301</td><td>23.244</td><td>23.173</td><td>23.101</td><td>23.026</td><td>22.95</td><td>22.875</td><td>本行賣出</td><td>23.76</td><td>23.51</td><td>23.507</td><td>23.462</td><td>23.39</td><td>23.317</td><td>23.25</td><td>23.183</td><td>23.116</td></tr><tr><td>SGD</td><td>本行買入</td><td>22.89</td><td>23.36</td><td>23.387</td><td>23.342</td><td>23.291</td><td>23.241</td><td>23.191</td><td>23.141</td><td>23.091</td><td>本行賣出</td><td>23.8</td><td>23.58</td><td>23.577</td><td>23.552</td><td>23.5</td><td>23.45</td><td>23.408</td><td>23.366</td><td>23.325</td></tr><tr><td>CHF</td><td>本行買入</td><td>35.0</td><td>35.61</td><td>35.817</td><td>35.791</td><td>35.778</td><td>35.765</td><td>35.748</td><td>35.731</td><td>35.715</td><td>本行賣出</td><td>36.2</td><td>36.0</td><td>36.082</td><td>36.087</td><td>36.075</td><td>36.06</td><td>36.059</td><td>36.057</td><td>36.056</td></tr><tr><td>JPY</td><td>本行買入</td><td>0.2001</td><td>0.2069</td><td>0.208</td><td>0.2081</td><td>0.2083</td><td>0.2085</td><td>0.2086</td><td>0.2088</td><td>0.209</td><td>本行賣出</td><td>0.2129</td><td>0.2119</td><td>0.212</td><td>0.2123</td><td>0.2125</td><td>0.2128</td><td>0.213</td><td>0.2133</td><td>0.2136</td></tr><tr><td>ZAR</td><td>本行買入</td><td>0.0</td><td>1.604</td><td>1.628</td><td>1.62</td><td>1.61</td><td>1.6</td><td>1.59</td><td>1.58</td><td>1.57</td><td>本行賣出</td><td>0.0</td><td>1.694</td><td>1.709</td><td>1.703</td><td>1.693</td><td>1.683</td><td>1.673</td><td>1.664</td><td>1.654</td></tr><tr><td>SEK</td><td>本行買入</td><td>2.67</td><td>3.0</td><td>3.007</td><td>3.001</td><td>2.994</td><td>2.987</td><td>2.98</td><td>2.972</td><td>2.965</td><td>本行賣出</td><td>3.19</td><td>3.12</td><td>3.108</td><td>3.104</td><td>3.097</td><td>3.09</td><td>3.085</td><td>3.079</td><td>3.073</td></tr><tr><td>NZD</td><td>本行買入</td><td>19.01</td><td>19.34</td><td>19.462</td><td>19.406</td><td>19.341</td><td>19.273</td><td>19.203</td><td>19.133</td><td>19.063</td><td>本行賣出</td><td>19.86</td><td>19.64</td><td>19.672</td><td>19.635</td><td>19.568</td><td>19.501</td><td>19.437</td><td>19.373</td><td>19.309</td></tr><tr><td>THB</td><td>本行買入</td><td>0.7491</td><td>0.8585</td><td>0.0</td><td>0.0</td><td>0.0</td><td>0.0</td><td>0.0</td><td>0.0</td><td>0.0</td><td>本行賣出</td><td>0.9391</td><td>0.9045</td><td>0.0</td><td>0.0</td><td>0.0</td><td>0.0</td><td>0.0</td><td>0.0</td><td>0.0</td></tr><tr><td>PHP</td><td>本行買入</td><td>0.4995</td><td>0.0</td><td>0.0</td><td>0.0</td><td>0.0</td><td>0.0</td><td>0.0</td><td>0.0</td><td>0.0</td><td>本行賣出</td><td>0.6315</td><td>0.0</td><td>0.0</td><td>0.0</td><td>0.0</td><td>0.0</td><td>0.0</td><td>0.0</td><td>0.0</td></tr><tr><td>IDR</td><td>本行買入</td><td>0.00168</td><td>0.0</td><td>0.0</td><td>0.0</td><td>0.0</td><td>0.0</td><td>0.0</td><td>0.0</td><td>0.0</td><td>本行賣出</td><td>0.00238</td><td>0.0</td><td>0.0</td><td>0.0</td><td>0.0</td><td>0.0</td><td>0.0</td><td>0.0</td><td>0.0</td></tr><tr><td>EUR</td><td>本行買入</td><td>33.31</td><td>33.825</td><td>33.982</td><td>33.925</td><td>33.833</td><td>33.75</td><td>33.672</td><td>33.594</td><td>33.467</td><td>本行賣出</td><td>34.65</td><td>34.425</td><td>34.388</td><td>34.343</td><td>34.264</td><td>34.205</td><td>34.145</td><td>34.085</td><td>34.025</td></tr><tr><td>KRW</td><td>本行買入</td><td>0.02198</td><td>0.0</td><td>0.0</td><td>0.0</td><td>0.0</td><td>0.0</td><td>0.0</td><td>0.0</td><td>0.0</td><td>本行賣出</td><td>0.02588</td><td>0.0</td><td>0.0</td><td>0.0</td><td>0.0</td><td>0.0</td><td>0.0</td><td>0.0</td><td>0.0</td></tr><tr><td>VND</td><td>本行買入</td><td>0.00104</td><td>0.0</td><td>0.0</td><td>0.0</td><td>0.0</td><td>0.0</td><td>0.0</td><td>0.0</td><td>0.0</td><td>本行賣出</td><td>0.00145</td><td>0.0</td><td>0.0</td><td>0.0</td><td>0.0</td><td>0.0</td><td>0.0</td><td>0.0</td><td>0.0</td></tr><tr><td>MYR</td><td>本行買入</td><td>5.555</td><td>0.0</td><td>0.0</td><td>0.0</td><td>0.0</td><td>0.0</td><td>0.0</td><td>0.0</td><td>0.0</td><td>本行賣出</td><td>7.075</td><td>0.0</td><td>0.0</td><td>0.0</td><td>0.0</td><td>0.0</td><td>0.0</td><td>0.0</td><td>0.0</td></tr><tr><td>CNY</td><td>本行買入</td><td>4.279</td><td>4.346</td><td>4.3498</td><td>4.3434</td><td>4.3349</td><td>4.3272</td><td>4.3204</td><td>4.3108</td><td>4.3068</td><td>本行賣出</td><td>4.441</td><td>4.406</td><td>4.401</td><td>4.397</td><td>4.3909</td><td>4.3836</td><td>4.379</td><td>4.3743</td><td>4.3697</td></tr></tbody></table></div>"
      ]
     },
     "metadata": {
      "application/vnd.databricks.v1+output": {
       "addedWidgets": {},
       "aggData": [],
       "aggError": "",
       "aggOverflow": false,
       "aggSchema": [],
       "aggSeriesLimitReached": false,
       "aggType": "",
       "arguments": {},
       "columnCustomDisplayInfos": {},
       "data": [
        [
         "USD",
         "本行買入",
         31.105,
         31.43,
         31.428,
         31.342,
         31.215,
         31.105,
         30.992,
         30.875,
         30.768,
         "本行賣出",
         31.775,
         31.58,
         31.534,
         31.458,
         31.345,
         31.245,
         31.14,
         31.038,
         30.94
        ],
        [
         "HKD",
         "本行買入",
         3.872,
         3.993,
         3.994,
         3.985,
         3.974,
         3.964,
         3.952,
         3.941,
         3.929,
         "本行賣出",
         4.076,
         4.063,
         4.055,
         4.048,
         4.037,
         4.027,
         4.016,
         4.006,
         3.996
        ],
        [
         "GBP",
         "本行買入",
         38.6,
         39.495,
         39.696,
         39.588,
         39.458,
         39.326,
         39.189,
         39.052,
         38.916,
         "本行賣出",
         40.72,
         40.125,
         40.112,
         40.037,
         39.907,
         39.772,
         39.649,
         39.525,
         39.402
        ],
        [
         "AUD",
         "本行買入",
         20.26,
         20.475,
         20.637,
         20.592,
         20.54,
         20.486,
         20.432,
         20.374,
         20.315,
         "本行賣出",
         21.04,
         20.82,
         20.846,
         20.818,
         20.765,
         20.711,
         20.664,
         20.613,
         20.56
        ],
        [
         "CAD",
         "本行買入",
         22.85,
         23.18,
         23.301,
         23.244,
         23.173,
         23.101,
         23.026,
         22.95,
         22.875,
         "本行賣出",
         23.76,
         23.51,
         23.507,
         23.462,
         23.39,
         23.317,
         23.25,
         23.183,
         23.116
        ],
        [
         "SGD",
         "本行買入",
         22.89,
         23.36,
         23.387,
         23.342,
         23.291,
         23.241,
         23.191,
         23.141,
         23.091,
         "本行賣出",
         23.8,
         23.58,
         23.577,
         23.552,
         23.5,
         23.45,
         23.408,
         23.366,
         23.325
        ],
        [
         "CHF",
         "本行買入",
         35,
         35.61,
         35.817,
         35.791,
         35.778,
         35.765,
         35.748,
         35.731,
         35.715,
         "本行賣出",
         36.2,
         36,
         36.082,
         36.087,
         36.075,
         36.06,
         36.059,
         36.057,
         36.056
        ],
        [
         "JPY",
         "本行買入",
         0.2001,
         0.2069,
         0.208,
         0.2081,
         0.2083,
         0.2085,
         0.2086,
         0.2088,
         0.209,
         "本行賣出",
         0.2129,
         0.2119,
         0.212,
         0.2123,
         0.2125,
         0.2128,
         0.213,
         0.2133,
         0.2136
        ],
        [
         "ZAR",
         "本行買入",
         0,
         1.604,
         1.628,
         1.62,
         1.61,
         1.6,
         1.59,
         1.58,
         1.57,
         "本行賣出",
         0,
         1.694,
         1.709,
         1.703,
         1.693,
         1.683,
         1.673,
         1.664,
         1.654
        ],
        [
         "SEK",
         "本行買入",
         2.67,
         3,
         3.007,
         3.001,
         2.994,
         2.987,
         2.98,
         2.972,
         2.965,
         "本行賣出",
         3.19,
         3.12,
         3.108,
         3.104,
         3.097,
         3.09,
         3.085,
         3.079,
         3.073
        ],
        [
         "NZD",
         "本行買入",
         19.01,
         19.34,
         19.462,
         19.406,
         19.341,
         19.273,
         19.203,
         19.133,
         19.063,
         "本行賣出",
         19.86,
         19.64,
         19.672,
         19.635,
         19.568,
         19.501,
         19.437,
         19.373,
         19.309
        ],
        [
         "THB",
         "本行買入",
         0.7491,
         0.8585,
         0,
         0,
         0,
         0,
         0,
         0,
         0,
         "本行賣出",
         0.9391,
         0.9045,
         0,
         0,
         0,
         0,
         0,
         0,
         0
        ],
        [
         "PHP",
         "本行買入",
         0.4995,
         0,
         0,
         0,
         0,
         0,
         0,
         0,
         0,
         "本行賣出",
         0.6315,
         0,
         0,
         0,
         0,
         0,
         0,
         0,
         0
        ],
        [
         "IDR",
         "本行買入",
         0.00168,
         0,
         0,
         0,
         0,
         0,
         0,
         0,
         0,
         "本行賣出",
         0.00238,
         0,
         0,
         0,
         0,
         0,
         0,
         0,
         0
        ],
        [
         "EUR",
         "本行買入",
         33.31,
         33.825,
         33.982,
         33.925,
         33.833,
         33.75,
         33.672,
         33.594,
         33.467,
         "本行賣出",
         34.65,
         34.425,
         34.388,
         34.343,
         34.264,
         34.205,
         34.145,
         34.085,
         34.025
        ],
        [
         "KRW",
         "本行買入",
         0.02198,
         0,
         0,
         0,
         0,
         0,
         0,
         0,
         0,
         "本行賣出",
         0.02588,
         0,
         0,
         0,
         0,
         0,
         0,
         0,
         0
        ],
        [
         "VND",
         "本行買入",
         0.00104,
         0,
         0,
         0,
         0,
         0,
         0,
         0,
         0,
         "本行賣出",
         0.00145,
         0,
         0,
         0,
         0,
         0,
         0,
         0,
         0
        ],
        [
         "MYR",
         "本行買入",
         5.555,
         0,
         0,
         0,
         0,
         0,
         0,
         0,
         0,
         "本行賣出",
         7.075,
         0,
         0,
         0,
         0,
         0,
         0,
         0,
         0
        ],
        [
         "CNY",
         "本行買入",
         4.279,
         4.346,
         4.3498,
         4.3434,
         4.3349,
         4.3272,
         4.3204,
         4.3108,
         4.3068,
         "本行賣出",
         4.441,
         4.406,
         4.401,
         4.397,
         4.3909,
         4.3836,
         4.379,
         4.3743,
         4.3697
        ]
       ],
       "datasetInfos": [],
       "dbfsResultPath": null,
       "isJsonSchema": true,
       "metadata": {},
       "overflow": false,
       "plotOptions": {
        "customPlotOptions": {},
        "displayType": "table",
        "pivotAggregation": null,
        "pivotColumns": null,
        "xColumns": null,
        "yColumns": null
       },
       "removedWidgets": [],
       "schema": [
        {
         "metadata": "{}",
         "name": "幣別",
         "type": "\"string\""
        },
        {
         "metadata": "{}",
         "name": "匯率",
         "type": "\"string\""
        },
        {
         "metadata": "{}",
         "name": "現金",
         "type": "\"float\""
        },
        {
         "metadata": "{}",
         "name": "即期",
         "type": "\"float\""
        },
        {
         "metadata": "{}",
         "name": "遠期10天",
         "type": "\"float\""
        },
        {
         "metadata": "{}",
         "name": "遠期30天",
         "type": "\"float\""
        },
        {
         "metadata": "{}",
         "name": "遠期60天",
         "type": "\"float\""
        },
        {
         "metadata": "{}",
         "name": "遠期90天",
         "type": "\"float\""
        },
        {
         "metadata": "{}",
         "name": "遠期120天",
         "type": "\"float\""
        },
        {
         "metadata": "{}",
         "name": "遠期150天",
         "type": "\"float\""
        },
        {
         "metadata": "{}",
         "name": "遠期180天",
         "type": "\"float\""
        },
        {
         "metadata": "{}",
         "name": "匯率.1",
         "type": "\"string\""
        },
        {
         "metadata": "{}",
         "name": "現金.1",
         "type": "\"float\""
        },
        {
         "metadata": "{}",
         "name": "即期.1",
         "type": "\"float\""
        },
        {
         "metadata": "{}",
         "name": "遠期10天.1",
         "type": "\"float\""
        },
        {
         "metadata": "{}",
         "name": "遠期30天.1",
         "type": "\"float\""
        },
        {
         "metadata": "{}",
         "name": "遠期60天.1",
         "type": "\"float\""
        },
        {
         "metadata": "{}",
         "name": "遠期90天.1",
         "type": "\"float\""
        },
        {
         "metadata": "{}",
         "name": "遠期120天.1",
         "type": "\"float\""
        },
        {
         "metadata": "{}",
         "name": "遠期150天.1",
         "type": "\"float\""
        },
        {
         "metadata": "{}",
         "name": "遠期180天.1",
         "type": "\"float\""
        }
       ],
       "type": "table"
      }
     },
     "output_type": "display_data"
    }
   ],
   "source": [
    "display(spark_df)"
   ]
  },
  {
   "cell_type": "markdown",
   "metadata": {
    "application/vnd.databricks.v1+cell": {
     "cellMetadata": {
      "byteLimit": 2048000,
      "rowLimit": 10000
     },
     "inputWidgets": {},
     "nuid": "02a13509-8557-4419-8bd7-f9efe68796c0",
     "showTitle": false,
     "title": ""
    }
   },
   "source": [
    "## Remove Unused Columns"
   ]
  },
  {
   "cell_type": "code",
   "execution_count": null,
   "metadata": {
    "application/vnd.databricks.v1+cell": {
     "cellMetadata": {
      "byteLimit": 2048000,
      "rowLimit": 10000
     },
     "inputWidgets": {},
     "nuid": "03b9b4eb-10d1-4912-8fb4-c3776f535edc",
     "showTitle": false,
     "title": ""
    }
   },
   "outputs": [
    {
     "name": "stdout",
     "output_type": "stream",
     "text": [
      "root\n",
      " |-- 幣別: string (nullable = true)\n",
      " |-- 即期: float (nullable = true)\n",
      " |-- 即期.1: float (nullable = true)\n",
      "\n"
     ]
    }
   ],
   "source": [
    "spark_df = spark_df.drop(\n",
    "    \"匯率\", \"現金\", \"匯率.1\", \"現金.1\", \"遠期10天\", \"遠期30天\", \"遠期60天\", \"遠期90天\", \"遠期120天\", \"遠期150天\", \"遠期180天\",\n",
    "    \"遠期10天.1\", \"遠期30天.1\", \"遠期60天.1\", \"遠期90天.1\", \"遠期120天.1\", \"遠期150天.1\", \"遠期180天.1\"\n",
    ")\n",
    "spark_df.printSchema()"
   ]
  },
  {
   "cell_type": "markdown",
   "metadata": {
    "application/vnd.databricks.v1+cell": {
     "cellMetadata": {
      "byteLimit": 2048000,
      "rowLimit": 10000
     },
     "inputWidgets": {},
     "nuid": "0c6b8a6d-1a10-40d9-9958-310a68550eb2",
     "showTitle": false,
     "title": ""
    }
   },
   "source": [
    "## Clean Missing Data"
   ]
  },
  {
   "cell_type": "code",
   "execution_count": null,
   "metadata": {
    "application/vnd.databricks.v1+cell": {
     "cellMetadata": {
      "byteLimit": 2048000,
      "rowLimit": 10000
     },
     "inputWidgets": {},
     "nuid": "b536f2d6-2697-4266-b0eb-2ce87e6c78ef",
     "showTitle": false,
     "title": ""
    }
   },
   "outputs": [
    {
     "data": {
      "text/html": [
       "<style scoped>\n",
       "  .table-result-container {\n",
       "    max-height: 300px;\n",
       "    overflow: auto;\n",
       "  }\n",
       "  table, th, td {\n",
       "    border: 1px solid black;\n",
       "    border-collapse: collapse;\n",
       "  }\n",
       "  th, td {\n",
       "    padding: 5px;\n",
       "  }\n",
       "  th {\n",
       "    text-align: left;\n",
       "  }\n",
       "</style><div class='table-result-container'><table class='table-result'><thead style='background-color: white'><tr><th>幣別</th><th>即期</th><th>即期.1</th></tr></thead><tbody><tr><td>USD</td><td>31.43</td><td>31.58</td></tr><tr><td>HKD</td><td>3.993</td><td>4.063</td></tr><tr><td>GBP</td><td>39.495</td><td>40.125</td></tr><tr><td>AUD</td><td>20.475</td><td>20.82</td></tr><tr><td>CAD</td><td>23.18</td><td>23.51</td></tr><tr><td>SGD</td><td>23.36</td><td>23.58</td></tr><tr><td>CHF</td><td>35.61</td><td>36.0</td></tr><tr><td>JPY</td><td>0.2069</td><td>0.2119</td></tr><tr><td>ZAR</td><td>1.604</td><td>1.694</td></tr><tr><td>SEK</td><td>3.0</td><td>3.12</td></tr><tr><td>NZD</td><td>19.34</td><td>19.64</td></tr><tr><td>THB</td><td>0.8585</td><td>0.9045</td></tr><tr><td>EUR</td><td>33.825</td><td>34.425</td></tr><tr><td>CNY</td><td>4.346</td><td>4.406</td></tr></tbody></table></div>"
      ]
     },
     "metadata": {
      "application/vnd.databricks.v1+output": {
       "addedWidgets": {},
       "aggData": [],
       "aggError": "",
       "aggOverflow": false,
       "aggSchema": [],
       "aggSeriesLimitReached": false,
       "aggType": "",
       "arguments": {},
       "columnCustomDisplayInfos": {},
       "data": [
        [
         "USD",
         31.43,
         31.58
        ],
        [
         "HKD",
         3.993,
         4.063
        ],
        [
         "GBP",
         39.495,
         40.125
        ],
        [
         "AUD",
         20.475,
         20.82
        ],
        [
         "CAD",
         23.18,
         23.51
        ],
        [
         "SGD",
         23.36,
         23.58
        ],
        [
         "CHF",
         35.61,
         36
        ],
        [
         "JPY",
         0.2069,
         0.2119
        ],
        [
         "ZAR",
         1.604,
         1.694
        ],
        [
         "SEK",
         3,
         3.12
        ],
        [
         "NZD",
         19.34,
         19.64
        ],
        [
         "THB",
         0.8585,
         0.9045
        ],
        [
         "EUR",
         33.825,
         34.425
        ],
        [
         "CNY",
         4.346,
         4.406
        ]
       ],
       "datasetInfos": [],
       "dbfsResultPath": null,
       "isJsonSchema": true,
       "metadata": {},
       "overflow": false,
       "plotOptions": {
        "customPlotOptions": {},
        "displayType": "table",
        "pivotAggregation": null,
        "pivotColumns": null,
        "xColumns": null,
        "yColumns": null
       },
       "removedWidgets": [],
       "schema": [
        {
         "metadata": "{}",
         "name": "幣別",
         "type": "\"string\""
        },
        {
         "metadata": "{}",
         "name": "即期",
         "type": "\"float\""
        },
        {
         "metadata": "{}",
         "name": "即期.1",
         "type": "\"float\""
        }
       ],
       "type": "table"
      }
     },
     "output_type": "display_data"
    }
   ],
   "source": [
    "clear_missing_data = spark_df.filter(spark_df['即期'] != 0)\n",
    "display(clear_missing_data)"
   ]
  },
  {
   "cell_type": "markdown",
   "metadata": {
    "application/vnd.databricks.v1+cell": {
     "cellMetadata": {
      "byteLimit": 2048000,
      "rowLimit": 10000
     },
     "inputWidgets": {},
     "nuid": "50852b01-69ac-4eb7-8380-47e0dd0343b3",
     "showTitle": false,
     "title": ""
    }
   },
   "source": [
    "## Rename Columns"
   ]
  },
  {
   "cell_type": "code",
   "execution_count": null,
   "metadata": {
    "application/vnd.databricks.v1+cell": {
     "cellMetadata": {
      "byteLimit": 2048000,
      "rowLimit": 10000
     },
     "inputWidgets": {},
     "nuid": "3fe64181-b063-4b88-bf57-915136c89500",
     "showTitle": false,
     "title": ""
    }
   },
   "outputs": [
    {
     "name": "stdout",
     "output_type": "stream",
     "text": [
      "root\n",
      " |-- currency: string (nullable = true)\n",
      " |-- buy_rate: float (nullable = true)\n",
      " |-- sell_rate: float (nullable = true)\n",
      "\n"
     ]
    }
   ],
   "source": [
    "old_name = [\"幣別\", \"即期\", \"即期.1\"]\n",
    "new_name = [\"currency\", \"buy_rate\", \"sell_rate\"]\n",
    "\n",
    "for old, new in zip(old_name, new_name):\n",
    "    clear_missing_data = clear_missing_data.withColumnRenamed(old, new)\n",
    "\n",
    "clear_missing_data.printSchema()"
   ]
  },
  {
   "cell_type": "code",
   "execution_count": null,
   "metadata": {
    "application/vnd.databricks.v1+cell": {
     "cellMetadata": {
      "byteLimit": 2048000,
      "rowLimit": 10000
     },
     "inputWidgets": {},
     "nuid": "829f0566-5fc0-4d94-931a-28d91bc6eec2",
     "showTitle": false,
     "title": ""
    }
   },
   "outputs": [],
   "source": [
    "display(clear_missing_data)"
   ]
  },
  {
   "cell_type": "markdown",
   "metadata": {
    "application/vnd.databricks.v1+cell": {
     "cellMetadata": {
      "byteLimit": 2048000,
      "rowLimit": 10000
     },
     "inputWidgets": {},
     "nuid": "c8defdb7-462d-4c48-962b-941dd41ce2af",
     "showTitle": false,
     "title": ""
    }
   },
   "source": [
    "## Get Current Date & Add Date Column"
   ]
  },
  {
   "cell_type": "code",
   "execution_count": null,
   "metadata": {
    "application/vnd.databricks.v1+cell": {
     "cellMetadata": {
      "byteLimit": 2048000,
      "rowLimit": 10000
     },
     "inputWidgets": {},
     "nuid": "aae07aa7-bf7d-4663-9be4-ec2a8ff2217c",
     "showTitle": false,
     "title": ""
    }
   },
   "outputs": [
    {
     "name": "stdout",
     "output_type": "stream",
     "text": [
      "root\n",
      " |-- currency: string (nullable = true)\n",
      " |-- buy_rate: float (nullable = true)\n",
      " |-- sell_rate: float (nullable = true)\n",
      " |-- date: string (nullable = false)\n",
      "\n"
     ]
    }
   ],
   "source": [
    "date = datetime.datetime.now().strftime(\"%Y%m%d\")\n",
    "include_date = clear_missing_data.withColumn(\"date\", lit(date))\n",
    "include_date.printSchema()"
   ]
  },
  {
   "cell_type": "code",
   "execution_count": null,
   "metadata": {
    "application/vnd.databricks.v1+cell": {
     "cellMetadata": {
      "byteLimit": 2048000,
      "rowLimit": 10000
     },
     "inputWidgets": {},
     "nuid": "d03c3cd8-4229-4c6a-a841-ab3aa899a9ad",
     "showTitle": false,
     "title": ""
    }
   },
   "outputs": [],
   "source": [
    "display(include_date)"
   ]
  },
  {
   "cell_type": "markdown",
   "metadata": {
    "application/vnd.databricks.v1+cell": {
     "cellMetadata": {
      "byteLimit": 2048000,
      "rowLimit": 10000
     },
     "inputWidgets": {},
     "nuid": "4e4eaeea-6214-4661-a8c4-add90fe2fd76",
     "showTitle": false,
     "title": ""
    }
   },
   "source": [
    "## Get Currency List"
   ]
  },
  {
   "cell_type": "code",
   "execution_count": null,
   "metadata": {
    "application/vnd.databricks.v1+cell": {
     "cellMetadata": {
      "byteLimit": 2048000,
      "rowLimit": 10000
     },
     "inputWidgets": {},
     "nuid": "5068625a-6b96-4c7e-9dec-cd0a02a961aa",
     "showTitle": false,
     "title": ""
    }
   },
   "outputs": [],
   "source": [
    "currency_name = include_date.select('currency') \\\n",
    "    .toPandas()['currency'].tolist()"
   ]
  },
  {
   "cell_type": "markdown",
   "metadata": {
    "application/vnd.databricks.v1+cell": {
     "cellMetadata": {
      "byteLimit": 2048000,
      "rowLimit": 10000
     },
     "inputWidgets": {},
     "nuid": "1fe3fafc-c7ee-4e43-b100-96577e3fe36e",
     "showTitle": false,
     "title": ""
    }
   },
   "source": [
    "## Download Historical Dataset"
   ]
  },
  {
   "cell_type": "code",
   "execution_count": null,
   "metadata": {
    "application/vnd.databricks.v1+cell": {
     "cellMetadata": {
      "byteLimit": 2048000,
      "rowLimit": 10000
     },
     "inputWidgets": {},
     "nuid": "4edd920b-23e6-4504-8350-431d44229489",
     "showTitle": false,
     "title": ""
    }
   },
   "outputs": [
    {
     "name": "stdout",
     "output_type": "stream",
     "text": [
      "[*] Getting historical currency exchange data of USD.\n",
      "root\n",
      " |-- currency: string (nullable = true)\n",
      " |-- buy_rate: float (nullable = true)\n",
      " |-- sell_rate: float (nullable = true)\n",
      " |-- date: string (nullable = false)\n",
      "\n",
      "None\n",
      "[*] Getting historical currency exchange data of HKD.\n",
      "[*] Getting historical currency exchange data of GBP.\n",
      "[*] Getting historical currency exchange data of AUD.\n",
      "[*] Getting historical currency exchange data of CAD.\n",
      "[*] Getting historical currency exchange data of SGD.\n",
      "[*] Getting historical currency exchange data of CHF.\n",
      "[*] Getting historical currency exchange data of JPY.\n",
      "[*] Getting historical currency exchange data of ZAR.\n",
      "[*] Getting historical currency exchange data of SEK.\n",
      "[*] Getting historical currency exchange data of NZD.\n",
      "[*] Getting historical currency exchange data of THB.\n",
      "[*] Getting historical currency exchange data of EUR.\n",
      "[*] Getting historical currency exchange data of CNY.\n"
     ]
    }
   ],
   "source": [
    "old_name = [\"資料日期\", \"幣別\", \"即期\", \"即期.1\"] #4\", \"即期14\"]\n",
    "new_name = [\"date\", \"currency\", \"buy_rate\", \"sell_rate\"]\n",
    "\n",
    "overall_data = None\n",
    "for idx, currency_each in enumerate(currency_name):\n",
    "    # Download Historical Data\n",
    "    try:\n",
    "        print(f\"[*] Getting historical currency exchange data of { currency_each }.\")\n",
    "        hist_data_request = requests.get(f\"https://rate.bot.com.tw/xrt/flcsv/0/l6m/{ currency_each }\")\n",
    "        temporary_df = pd.read_csv(io.StringIO(hist_data_request.content.decode('utf-8')), index_col = False)\n",
    "    except Exception as e:\n",
    "        print(f\"[*] Error => { e }\")\n",
    "        continue\n",
    "\n",
    "    fields = []\n",
    "    for field_name in temporary_df.columns:\n",
    "        if field_name in ['幣別', '匯率', '匯率.1']: #, '匯率', \"匯率.1\"]:\n",
    "            fields.append(StructField(field_name, StringType(), True))\n",
    "        elif field_name == '資料日期':\n",
    "            fields.append(StructField(field_name, IntegerType(), True))\n",
    "        else:\n",
    "            fields.append(StructField(field_name, FloatType(), True))\n",
    "            \n",
    "    schema = StructType(fields)\n",
    "    temporary_df = spark.createDataFrame(temporary_df, schema)\n",
    "\n",
    "    temporary_df = temporary_df.drop(\n",
    "        \"匯率\", \"現金\", \"匯率.1\", \"現金.1\", \"遠期10天\", \"遠期30天\", \"遠期60天\", \"遠期90天\", \"遠期120天\", \"遠期150天\", \"遠期180天\",\n",
    "        \"遠期10天.1\", \"遠期30天.1\", \"遠期60天.1\", \"遠期90天.1\", \"遠期120天.1\", \"遠期150天.1\", \"遠期180天.1\"\n",
    "    )\n",
    "\n",
    "    for old, new in zip(old_name, new_name):\n",
    "        temporary_df = temporary_df.withColumnRenamed(old, new)\n",
    "\n",
    "    temporary_df = temporary_df.withColumn('tempdate', temporary_df['date'])\n",
    "    temporary_df = temporary_df.drop('date') \n",
    "    temporary_df = temporary_df.withColumnRenamed('tempdate', 'date')\n",
    "    temporary_df = temporary_df.filter(col('date') != date)\n",
    "\n",
    "    # Concatenate\n",
    "    if overall_data is None:\n",
    "        overall_data = include_date\n",
    "        print(overall_data.printSchema())\n",
    "\n",
    "    overall_data = overall_data.union(temporary_df)\n",
    "    overall_data = overall_data.distinct()"
   ]
  },
  {
   "cell_type": "code",
   "execution_count": null,
   "metadata": {
    "application/vnd.databricks.v1+cell": {
     "cellMetadata": {
      "byteLimit": 2048000,
      "rowLimit": 10000
     },
     "inputWidgets": {},
     "nuid": "e0ea719d-2f41-47ad-80c6-b9a496832c96",
     "showTitle": false,
     "title": ""
    }
   },
   "outputs": [],
   "source": [
    "overall_data = overall_data.dropDuplicates()\n",
    "display(overall_data)"
   ]
  },
  {
   "cell_type": "markdown",
   "metadata": {
    "application/vnd.databricks.v1+cell": {
     "cellMetadata": {
      "byteLimit": 2048000,
      "rowLimit": 10000
     },
     "inputWidgets": {},
     "nuid": "eba317b3-da5b-491b-9be1-dc851e56f6ac",
     "showTitle": false,
     "title": ""
    }
   },
   "source": [
    "## Sort the date"
   ]
  },
  {
   "cell_type": "code",
   "execution_count": null,
   "metadata": {
    "application/vnd.databricks.v1+cell": {
     "cellMetadata": {
      "byteLimit": 2048000,
      "rowLimit": 10000
     },
     "inputWidgets": {},
     "nuid": "3198bb52-eb96-45a6-a89e-9be65324311f",
     "showTitle": false,
     "title": ""
    }
   },
   "outputs": [],
   "source": [
    "sorted_df = overall_data.sort(asc('date'))"
   ]
  },
  {
   "cell_type": "code",
   "execution_count": null,
   "metadata": {
    "application/vnd.databricks.v1+cell": {
     "cellMetadata": {
      "byteLimit": 2048000,
      "rowLimit": 10000
     },
     "inputWidgets": {},
     "nuid": "7c673d74-df20-42d2-a4f6-5e845980d5b4",
     "showTitle": false,
     "title": ""
    }
   },
   "outputs": [],
   "source": [
    "display(sorted_df)"
   ]
  },
  {
   "cell_type": "markdown",
   "metadata": {
    "application/vnd.databricks.v1+cell": {
     "cellMetadata": {
      "byteLimit": 2048000,
      "rowLimit": 10000
     },
     "inputWidgets": {},
     "nuid": "9faf9810-6ca4-4fee-bf7b-11b9e185418c",
     "showTitle": false,
     "title": ""
    }
   },
   "source": [
    "## Save to Table\n",
    "\n",
    "Databricks is a delta lake solution."
   ]
  },
  {
   "cell_type": "code",
   "execution_count": null,
   "metadata": {
    "application/vnd.databricks.v1+cell": {
     "cellMetadata": {
      "byteLimit": 2048000,
      "rowLimit": 10000
     },
     "inputWidgets": {},
     "nuid": "835dfb9a-d697-4a94-9b95-4811e8ce5f79",
     "showTitle": false,
     "title": ""
    }
   },
   "outputs": [
    {
     "name": "stdout",
     "output_type": "stream",
     "text": [
      "root\n",
      " |-- currency: string (nullable = true)\n",
      " |-- buy_rate: float (nullable = true)\n",
      " |-- sell_rate: float (nullable = true)\n",
      " |-- date: string (nullable = true)\n",
      "\n"
     ]
    }
   ],
   "source": [
    "sorted_df.printSchema()"
   ]
  },
  {
   "cell_type": "code",
   "execution_count": null,
   "metadata": {
    "application/vnd.databricks.v1+cell": {
     "cellMetadata": {
      "byteLimit": 2048000,
      "rowLimit": 10000
     },
     "inputWidgets": {},
     "nuid": "dd1055ed-ea23-4d3a-97a4-b0866d8b6a04",
     "showTitle": false,
     "title": ""
    }
   },
   "outputs": [],
   "source": [
    "sorted_df.coalesce(1).write.mode(\"overwrite\").saveAsTable(\"default.bot_exchange\")"
   ]
  },
  {
   "cell_type": "markdown",
   "metadata": {
    "application/vnd.databricks.v1+cell": {
     "cellMetadata": {
      "byteLimit": 2048000,
      "rowLimit": 10000
     },
     "inputWidgets": {},
     "nuid": "06d39f41-14fa-42ce-b059-354c95f639c8",
     "showTitle": false,
     "title": ""
    }
   },
   "source": [
    "## Read from Table"
   ]
  },
  {
   "cell_type": "code",
   "execution_count": null,
   "metadata": {
    "application/vnd.databricks.v1+cell": {
     "cellMetadata": {
      "byteLimit": 2048000,
      "rowLimit": 10000
     },
     "inputWidgets": {},
     "nuid": "4bdb3c37-b726-4800-8ecd-5686dcf049b5",
     "showTitle": false,
     "title": ""
    }
   },
   "outputs": [],
   "source": [
    "pd_df = spark.sql('select * from default.bot_exchange')"
   ]
  },
  {
   "cell_type": "code",
   "execution_count": null,
   "metadata": {
    "application/vnd.databricks.v1+cell": {
     "cellMetadata": {
      "byteLimit": 2048000,
      "rowLimit": 10000
     },
     "inputWidgets": {},
     "nuid": "c0191e67-f255-4f4a-995e-f0b4f4d4284a",
     "showTitle": false,
     "title": ""
    }
   },
   "outputs": [],
   "source": [
    "display(pd_df)"
   ]
  },
  {
   "cell_type": "markdown",
   "metadata": {
    "application/vnd.databricks.v1+cell": {
     "cellMetadata": {
      "byteLimit": 2048000,
      "rowLimit": 10000
     },
     "inputWidgets": {},
     "nuid": "a985ea35-1430-4c6a-8c0f-5061d138690f",
     "showTitle": false,
     "title": ""
    }
   },
   "source": [
    "## SQL"
   ]
  },
  {
   "cell_type": "code",
   "execution_count": null,
   "metadata": {
    "application/vnd.databricks.v1+cell": {
     "cellMetadata": {
      "byteLimit": 2048000,
      "implicitDf": true,
      "rowLimit": 10000
     },
     "inputWidgets": {},
     "nuid": "61dc65c6-ae4b-4b60-9b85-0c56f55ea6a0",
     "showTitle": false,
     "title": ""
    }
   },
   "outputs": [],
   "source": [
    "%sql\n",
    "SELECT * FROM default.bot_exchange"
   ]
  },
  {
   "cell_type": "markdown",
   "metadata": {
    "application/vnd.databricks.v1+cell": {
     "cellMetadata": {
      "byteLimit": 2048000,
      "rowLimit": 10000
     },
     "inputWidgets": {},
     "nuid": "8e50c57a-bc62-423e-b3bd-065d2abb48e0",
     "showTitle": false,
     "title": ""
    }
   },
   "source": [
    "### View only the buy rate of THB"
   ]
  },
  {
   "cell_type": "code",
   "execution_count": null,
   "metadata": {
    "application/vnd.databricks.v1+cell": {
     "cellMetadata": {
      "byteLimit": 2048000,
      "implicitDf": true,
      "rowLimit": 10000
     },
     "inputWidgets": {},
     "nuid": "5dad965a-bb18-493d-9884-939ad5c8ed35",
     "showTitle": false,
     "title": ""
    }
   },
   "outputs": [],
   "source": [
    "%sql\n",
    "SELECT date, buy_rate FROM default.bot_exchange WHERE currency = \"THB\" ORDER BY date DESC;"
   ]
  },
  {
   "cell_type": "markdown",
   "metadata": {
    "application/vnd.databricks.v1+cell": {
     "cellMetadata": {
      "byteLimit": 2048000,
      "rowLimit": 10000
     },
     "inputWidgets": {},
     "nuid": "6e5a88ec-ed31-4a71-99c8-a8470f8f1ed0",
     "showTitle": false,
     "title": ""
    }
   },
   "source": [
    "### View only the sale rate of THB"
   ]
  },
  {
   "cell_type": "code",
   "execution_count": null,
   "metadata": {
    "application/vnd.databricks.v1+cell": {
     "cellMetadata": {
      "byteLimit": 2048000,
      "implicitDf": true,
      "rowLimit": 10000
     },
     "inputWidgets": {},
     "nuid": "b9f39ce0-311e-4b93-b3f7-6650e9f14824",
     "showTitle": false,
     "title": ""
    }
   },
   "outputs": [],
   "source": [
    "%sql\n",
    "SELECT date, sell_rate FROM default.bot_exchange WHERE currency = \"THB\" ORDER BY date DESC;"
   ]
  }
 ],
 "metadata": {
  "application/vnd.databricks.v1+notebook": {
   "dashboards": [],
   "language": "python",
   "notebookMetadata": {
    "mostRecentlyExecutedCommandWithImplicitDF": {
     "commandId": 4492629415155416,
     "dataframes": [
      "_sqldf"
     ]
    },
    "pythonIndentUnit": 4
   },
   "notebookName": "bank_of_taiwan_currency_spark",
   "widgets": {}
  },
  "language_info": {
   "name": "python"
  }
 },
 "nbformat": 4,
 "nbformat_minor": 0
}
